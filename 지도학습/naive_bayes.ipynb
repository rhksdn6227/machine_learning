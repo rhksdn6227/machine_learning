{
 "cells": [
  {
   "cell_type": "code",
   "execution_count": 18,
   "metadata": {},
   "outputs": [],
   "source": [
    "import numpy as np\n",
    "import matplotlib as mpl\n",
    "import matplotlib.pyplot as plt\n",
    "import re\n",
    "import math\n",
    "import pandas as pd\n"
   ]
  },
  {
   "cell_type": "code",
   "execution_count": 9,
   "metadata": {},
   "outputs": [],
   "source": [
    "special_chars_remover = re.compile(\"[^\\w'|_]\")\n",
    "def remove_special_characters(sentence):\n",
    "    return special_chars_remover.sub(' ', sentence)"
   ]
  },
  {
   "cell_type": "code",
   "execution_count": 10,
   "metadata": {},
   "outputs": [],
   "source": [
    "def read_data():\n",
    "    training_sentences = [[], []]\n",
    "    bad_df=pd.read_csv('./data/prostitution.csv',sep=',')\n",
    "    good_df=pd.read_csv('./data/not_spam.csv',sep=',')\n",
    "    for doc in bad_df['text']:\n",
    "        training_sentences[0].append(doc)\n",
    "    for doc in good_df['text']:\n",
    "        training_sentences[1].append(doc)\n",
    "        \n",
    "    return [' '.join(training_sentences[0]), ' '.join(training_sentences[1])]"
   ]
  },
  {
   "cell_type": "code",
   "execution_count": 11,
   "metadata": {},
   "outputs": [],
   "source": [
    "def normalize_log_prob(prob1, prob2):\n",
    "    maxprob = max(prob1, prob2)\n",
    "\n",
    "    prob1 -= maxprob\n",
    "    prob2 -= maxprob\n",
    "    prob1 = math.exp(prob1)\n",
    "    prob2 = math.exp(prob2)\n",
    "\n",
    "    normalize_constant = 1.0 / float(prob1 + prob2)\n",
    "    prob1 *= normalize_constant\n",
    "    prob2 *= normalize_constant\n",
    "\n",
    "    return (prob1, prob2)\n",
    "\n",
    "def calculate_doc_prob(training_sentence, testing_sentence, alpha):\n",
    "    logprob = 0\n",
    "\n",
    "    training_model = create_BOW(training_sentence)\n",
    "    testing_model = create_BOW(testing_sentence)\n",
    "    total=sum(training_model.values())    \n",
    "    for w,cnt in testing_model.items():\n",
    "        if w not in training_model:\n",
    "            logprob+=math.log(alpha)-math.log(total)\n",
    "        else:\n",
    "            logprob+=cnt*(math.log(training_model[w])-math.log(total))\n",
    "    \n",
    "    return logprob"
   ]
  },
  {
   "cell_type": "code",
   "execution_count": 13,
   "metadata": {},
   "outputs": [],
   "source": [
    "def create_BOW(sentence):\n",
    "    bow = {}\n",
    "    sentence=sentence.lower()\n",
    "    sentence=remove_special_characters(sentence)\n",
    "    for i in sentence.split(' '):\n",
    "        if(len(i)<1):\n",
    "            continue\n",
    "        bow.setdefault(i,0)\n",
    "        bow[i]+=1\n",
    "\n",
    "    return bow"
   ]
  },
  {
   "cell_type": "code",
   "execution_count": 20,
   "metadata": {},
   "outputs": [],
   "source": [
    "def visualize_boxplot(title, values, labels):\n",
    "    width = .35\n",
    "    fig, ax = plt.subplots()\n",
    "    ind = np.arange(len(values))\n",
    "    rects = ax.bar(ind, values, width)\n",
    "    ax.bar(ind, values, width=width)\n",
    "    ax.set_xticks(ind + width/2)\n",
    "    ax.set_xticklabels(labels)\n",
    "\n",
    "    def autolabel(rects):\n",
    "        # attach some text labels\n",
    "        for rect in rects:\n",
    "            height = rect.get_height()\n",
    "            ax.text(rect.get_x()+rect.get_width()/2., height + 0.01, '%.2lf%%' % (height * 100), ha='center', va='bottom')\n",
    "    plt.show()\n",
    "    autolabel(rects)"
   ]
  },
  {
   "cell_type": "code",
   "execution_count": 16,
   "metadata": {},
   "outputs": [],
   "source": [
    "def naive_bayes(training_sentences, testing_sentence):\n",
    "    log_prob_negative = calculate_doc_prob(training_sentences[0], testing_sentence, 0.1) + math.log(0.5)\n",
    "    log_prob_positive = calculate_doc_prob(training_sentences[1], testing_sentence, 0.1) + math.log(0.5)\n",
    "    prob_pair = normalize_log_prob(log_prob_negative, log_prob_positive)\n",
    "    \n",
    "    return prob_pair"
   ]
  },
  {
   "cell_type": "code",
   "execution_count": 14,
   "metadata": {},
   "outputs": [],
   "source": [
    "def main():\n",
    "    training_sentences = read_data()\n",
    "    \n",
    "    testing_sentence = input()\n",
    "    prob_pair = naive_bayes(training_sentences, testing_sentence)\n",
    "    \n",
    "    plot_title = testing_sentence\n",
    "    if len(plot_title) > 50: plot_title = plot_title[:50] + \"...\"\n",
    "    visualize_boxplot(plot_title,\n",
    "                  list(prob_pair),\n",
    "                  ['Negative', 'Positive'])"
   ]
  },
  {
   "cell_type": "code",
   "execution_count": 21,
   "metadata": {},
   "outputs": [
    {
     "name": "stdout",
     "output_type": "stream",
     "text": [
      "출장 마사지 바로\n"
     ]
    },
    {
     "data": {
      "image/png": "[encoded data removed]",
      "text/plain": [
       "<Figure size 432x288 with 1 Axes>"
      ]
     },
     "metadata": {
      "needs_background": "light"
     },
     "output_type": "display_data"
    }
   ],
   "source": [
    "main()"
   ]
  }
 ],
 "metadata": {
  "kernelspec": {
   "display_name": "Python 3",
   "language": "python",
   "name": "python3"
  },
  "language_info": {
   "codemirror_mode": {
    "name": "ipython",
    "version": 3
   },
   "file_extension": ".py",
   "mimetype": "text/x-python",
   "name": "python",
   "nbconvert_exporter": "python",
   "pygments_lexer": "ipython3",
   "version": "3.8.3"
  }
 },
 "nbformat": 4,
 "nbformat_minor": 4
}
